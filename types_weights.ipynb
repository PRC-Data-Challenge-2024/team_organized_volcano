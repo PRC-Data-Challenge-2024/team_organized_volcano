{
 "cells": [
  {
   "cell_type": "markdown",
   "metadata": {},
   "source": [
    "# MTOW and MLAW for aicraft types"
   ]
  },
  {
   "cell_type": "markdown",
   "metadata": {},
   "source": [
    "This notebook is used to create a file listing the MTWO and the MALW of frequently operated aircraft types.\n",
    "The data are based on Wikipedia's List of airliners by MTOW (https://en.wikipedia.org/wiki/List_of_airliners_by_maximum_takeoff_weight), the FAA Aircraft Characteristics Database (https://www.faa.gov/airports/engineering/aircraft_char_database) (Last updated: Friday, October 13, 2023) and the Wikipedia article abput the Cessna Citation family https://en.wikipedia.org/wiki/Cessna_Citation_family.\n",
    "As we wanted all aircraft types to be represented by an ICAO code, we also made use of Wikipedia's List of aircraft type designators https://en.wikipedia.org/wiki/List_of_aircraft_type_designators.\n",
    "The Wikipedia lists were converted to .csv-files by use of https://wikitable2csv.ggor.de/ (see also https://github.com/gambolputty/wikitable2csv?tab=readme-ov-file). \n",
    "\n",
    "Author: Dennis Schorn (dennis.schorn@mail.de)\n",
    "Current version from 2024-09-23"
   ]
  },
  {
   "cell_type": "code",
   "execution_count": 1,
   "metadata": {},
   "outputs": [],
   "source": [
    "# Import libraries\n",
    "import pandas as pd\n",
    "import numpy as np"
   ]
  },
  {
   "cell_type": "markdown",
   "metadata": {},
   "source": [
    "#### Create a DataFrame Containing the MTOW and MLAW based on Wikipedia's data"
   ]
  },
  {
   "cell_type": "code",
   "execution_count": 2,
   "metadata": {},
   "outputs": [],
   "source": [
    "# Read in type_designators.csv\n",
    "designators_raw = pd.read_csv('type_designators.csv')\n",
    "\n",
    "# Remove IATA Code from designators and rename 'Model' to 'Type' for consistency\n",
    "designators = designators_raw.drop(columns=['IATA type code'])\n",
    "designators.rename(columns={' Model':'Type'}, inplace=True)\n",
    "\n",
    "# Keep only the lines with the shortest model string\n",
    "designators = designators.loc[designators.groupby('ICAO code')['Type'].idxmin()].reindex()\n",
    "\n",
    "# Read in wikipedia_list_of_airliners_by_mtow.csv\n",
    "mtow_data_raw = pd.read_csv('wikipedia_list_of_airliners_by_mtow.csv')\n",
    "mtow_data = mtow_data_raw.drop(columns=['TOR [m]', 'LR [m]', 'ICAO category']) \n",
    "mtow_data.sort_values('Type')\n",
    "\n",
    "# Create a new data frame adding 'ICAO code' to mtow_data based on the Type column\n",
    "\n",
    "# Merge the two data frames on 'Type' and 'key_1' columns\n",
    "mtow_data = pd.merge(mtow_data, designators, left_on=['Type', mtow_data.groupby('Type').cumcount()], right_on=['Type', designators.groupby('Type').cumcount()])\n",
    "mtow_data.sort_values('Type', inplace=True)\n",
    "\n",
    "# Drop the 'key_1' column\n",
    "mtow_data.drop(columns=['key_1'], inplace=True)\n",
    "\n",
    "# Remove separators from MTOW column and convert it to integer\n",
    "mtow_data['MTOW [kg]'] = mtow_data['MTOW [kg]'].apply(lambda x: x.replace(',', ''))\n",
    "mtow_data['MTOW [kg]'] = mtow_data['MTOW [kg]'].apply(lambda x: x.replace('.', ''))\n",
    "mtow_data['MTOW [kg]'] = mtow_data['MTOW [kg]'].astype(int)\n",
    "\n",
    "# Convert MLW from tonnes to kg\n",
    "mtow_data['MLW [tonnes]'] = (mtow_data['MLW [tonnes]']*1000).astype(int)\n",
    "\n",
    "# Rename MLW column to MLAW [kg] and ICAO code to aircraft_type\n",
    "mtow_data.rename(columns={'MLW [tonnes]':'mlw'}, inplace=True)\n",
    "mtow_data.rename(columns={'ICAO code':'aircraft_type'}, inplace=True)\n",
    "mtow_data.rename(columns={'MTOW [kg]':'mtow'}, inplace=True)\n",
    "\n",
    "# Reorder columns\n",
    "mtow_data = mtow_data[['aircraft_type', 'mtow', 'mlw']]"
   ]
  },
  {
   "cell_type": "markdown",
   "metadata": {},
   "source": [
    "#### Create a DataFrame Containing the MTOW and MLW based on the FAA Aircraft Characteristics Database"
   ]
  },
  {
   "cell_type": "code",
   "execution_count": 3,
   "metadata": {},
   "outputs": [],
   "source": [
    "# Read the FAA .csv file and convert it to a DataFrame\n",
    "faa_weights = pd.read_csv('FAA_weights.csv', sep=';')\n",
    "faa_weights = faa_weights.dropna()\n",
    "\n",
    "# Remove separators\n",
    "faa_weights['MTOW_lb'] = faa_weights['MTOW_lb'].apply(lambda x: x.replace('.', ''))\n",
    "faa_weights['MTOW_lb'] = faa_weights['MTOW_lb'].astype(int)\n",
    "faa_weights['MLW_lb'] = (faa_weights['MLW_lb']*1000).astype(int)\n",
    "\n",
    "# Convert MTOW and MLAW in lb to MTOW in kg\n",
    "faa_weights['mtow'] = (round(faa_weights['MTOW_lb'] * 0.453592 / 10) * 10).astype(int)\n",
    "faa_weights['mlw'] = (round(faa_weights['MLW_lb'] * 0.453592 / 10) * 10).astype(int)\n",
    "\n",
    "# Drop unnecessary columns\n",
    "faa_weights.drop(columns=['MTOW_lb', 'MLW_lb'], inplace=True)\n",
    "\n",
    "# Keep only the lines with MTOW > 7500 kg\n",
    "faa_weights = faa_weights[faa_weights['mtow'] > 7500]\n",
    "\n",
    "# Reset index\n",
    "faa_weights.reset_index(drop=True, inplace=True)\n",
    "\n",
    "# Rename columns\n",
    "faa_weights.rename(columns={'ICAO_Code':'aircraft_type'}, inplace=True)"
   ]
  },
  {
   "cell_type": "markdown",
   "metadata": {},
   "source": [
    "#### Merge MTOW and MLW based on the Wikipedia's List's data and the FAA data"
   ]
  },
  {
   "cell_type": "code",
   "execution_count": 4,
   "metadata": {},
   "outputs": [],
   "source": [
    "icao_mtow_mlw = pd.concat([mtow_data, faa_weights], ignore_index=True).drop_duplicates(subset=['aircraft_type']).sort_values('aircraft_type').reset_index(drop=True)"
   ]
  },
  {
   "cell_type": "markdown",
   "metadata": {},
   "source": [
    "#### Determine usefull categories based on MTOW"
   ]
  },
  {
   "cell_type": "code",
   "execution_count": 5,
   "metadata": {},
   "outputs": [
    {
     "data": {
      "image/png": "[encoded data removed]",
      "text/plain": [
       "<Figure size 1000x600 with 1 Axes>"
      ]
     },
     "metadata": {},
     "output_type": "display_data"
    }
   ],
   "source": [
    "import matplotlib.pyplot as plt\n",
    "\n",
    "# Introduce logarithmic binning\n",
    "bins = np.logspace(np.log10(icao_mtow_mlw['mtow'].min()), np.log10(icao_mtow_mlw['mtow'].max()), num=10)\n",
    "# Create a histogram for MTOW from icao_mtow\n",
    "plt.figure(figsize=(10, 6))\n",
    "plt.hist(icao_mtow_mlw['mtow'], bins=bins, edgecolor='black')\n",
    "#plt.xscale('log')\n",
    "plt.title('Histogram of MTOW [kg]')\n",
    "plt.xlabel('MTOW [kg]')\n",
    "plt.ylabel('# of aircraft')\n",
    "plt.grid(True)\n",
    "plt.show()"
   ]
  },
  {
   "cell_type": "code",
   "execution_count": 6,
   "metadata": {},
   "outputs": [],
   "source": [
    "# Assign bin numbers to each row in icao_mtow\n",
    "icao_mtow_mlw['mtow_group'] = pd.cut(icao_mtow_mlw['mtow'], bins=bins, labels=False)\n",
    "icao_mtow_mlw.sort_values('aircraft_type', inplace=True)\n",
    "\n",
    "# Assign separate mtow_group for A380\n",
    "icao_mtow_mlw.loc[icao_mtow_mlw['aircraft_type'] == 'A388', 'mtow_group'] = icao_mtow_mlw['mtow_group'].max() + 1\n",
    "\n",
    "# Save the data frame to a .csv file\n",
    "icao_mtow_mlw.to_csv('type_mtow_mlw.csv', index=False)"
   ]
  },
  {
   "cell_type": "markdown",
   "metadata": {},
   "source": [
    "#### Determine the aircraft types that are in the challenge and submission flight list but not in icao_mtow_mlw"
   ]
  },
  {
   "cell_type": "code",
   "execution_count": 7,
   "metadata": {},
   "outputs": [
    {
     "name": "stdout",
     "output_type": "stream",
     "text": [
      "Series([], Name: aircraft_type, dtype: object)\n"
     ]
    }
   ],
   "source": [
    "fls = pd.read_csv('submission_set.csv')\n",
    "flc = pd.read_csv('challenge_set.csv')\n",
    "\n",
    "types_sc = pd.concat([fls['aircraft_type'].drop_duplicates(), flc['aircraft_type'].drop_duplicates()], ignore_index=True).drop_duplicates().reset_index(drop=True)\n",
    "\n",
    "missing_types = types_sc[~types_sc.isin(icao_mtow_mlw['aircraft_type'])]\n",
    "print(missing_types)"
   ]
  },
  {
   "cell_type": "code",
   "execution_count": null,
   "metadata": {},
   "outputs": [],
   "source": []
  }
 ],
 "metadata": {
  "kernelspec": {
   "display_name": ".venv",
   "language": "python",
   "name": "python3"
  },
  "language_info": {
   "codemirror_mode": {
    "name": "ipython",
    "version": 3
   },
   "file_extension": ".py",
   "mimetype": "text/x-python",
   "name": "python",
   "nbconvert_exporter": "python",
   "pygments_lexer": "ipython3",
   "version": "3.12.5"
  }
 },
 "nbformat": 4,
 "nbformat_minor": 2
}
